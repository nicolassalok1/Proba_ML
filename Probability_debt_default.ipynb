{
 "nbformat": 4,
 "nbformat_minor": 0,
 "metadata": {
  "colab": {
   "provenance": [],
   "authorship_tag": "ABX9TyMEiJ/MsBFBkvRaFDzcnrJQ"
  },
  "kernelspec": {
   "name": "python3",
   "display_name": "Python 3 (ipykernel)",
   "language": "python"
  },
  "language_info": {
   "name": "python"
  }
 },
 "cells": [
  {
   "cell_type": "markdown",
   "source": [
    "# Estimating Probability of Debt Default"
   ],
   "metadata": {
    "id": "vf_daAQB4p_7"
   }
  },
  {
   "cell_type": "code",
   "metadata": {
    "colab": {
     "base_uri": "https://localhost:8080/",
     "height": 112
    },
    "id": "cICaHxMI4o-J",
    "outputId": "12ddb77e-a0e7-4c3a-9428-b156b1af4877",
    "ExecuteTime": {
     "end_time": "2025-05-06T17:33:15.646798Z",
     "start_time": "2025-05-06T17:33:15.631456Z"
    }
   },
   "source": [
    "# Import Python libraries\n",
    "import numpy as np\n",
    "import pandas as pd\n",
    "\n",
    "# Create a dataframe for your bond analysis\n",
    "bonds = pd.DataFrame(index=['Default', 'No Default'])\n",
    "\n",
    "# The prior probability of default\n",
    "# P(Default) = 0.10 and P(No Default) = 0.90\n",
    "\n",
    "bonds['Prior'] = 0.10, 0.90\n",
    "\n",
    "# The likelihood functions for observing negative ratings\n",
    "# P(Negative|Default) = 0.70 and P(Negative|No Default) = 0.40\n",
    "\n",
    "bonds['Likeli_Neg'] = 0.70, 0.40\n",
    "\n",
    "# Joint probabilities of seeing a negative rating depending on\n",
    "# default or no default\n",
    "# P(Negative|Default) * P(Default) and P(Negative|No Default) * P(No Default)\n",
    "\n",
    "bonds['Joint1'] = bonds['Likeli_Neg'] * bonds['Prior']\n",
    "\n",
    "# Add the joint probabilities to get the marginal likelihood or unconditional\n",
    "# probability of observing a negative rating\n",
    "# P(Negative) = P(Negative|Default) * P(Default) + P(Negative|No Default) * P(No Default)\n",
    "\n",
    "prob_neg_data = bonds['Joint1'].sum()\n",
    "\n",
    "# Use the inverse probability rule to calculate the updated probability of\n",
    "# default based on the new negative rating and then print the data table.\n",
    "\n",
    "bonds['Posterior1'] = bonds['Likeli_Neg'] * bonds['Prior']/prob_neg_data\n",
    "bonds.round(2)"
   ],
   "outputs": [
    {
     "data": {
      "text/plain": [
       "            Prior  Likeli_Neg  Joint1  Posterior1\n",
       "Default       0.1         0.7    0.07        0.16\n",
       "No Default    0.9         0.4    0.36        0.84"
      ],
      "text/html": [
       "<div>\n",
       "<style scoped>\n",
       "    .dataframe tbody tr th:only-of-type {\n",
       "        vertical-align: middle;\n",
       "    }\n",
       "\n",
       "    .dataframe tbody tr th {\n",
       "        vertical-align: top;\n",
       "    }\n",
       "\n",
       "    .dataframe thead th {\n",
       "        text-align: right;\n",
       "    }\n",
       "</style>\n",
       "<table border=\"1\" class=\"dataframe\">\n",
       "  <thead>\n",
       "    <tr style=\"text-align: right;\">\n",
       "      <th></th>\n",
       "      <th>Prior</th>\n",
       "      <th>Likeli_Neg</th>\n",
       "      <th>Joint1</th>\n",
       "      <th>Posterior1</th>\n",
       "    </tr>\n",
       "  </thead>\n",
       "  <tbody>\n",
       "    <tr>\n",
       "      <th>Default</th>\n",
       "      <td>0.1</td>\n",
       "      <td>0.7</td>\n",
       "      <td>0.07</td>\n",
       "      <td>0.16</td>\n",
       "    </tr>\n",
       "    <tr>\n",
       "      <th>No Default</th>\n",
       "      <td>0.9</td>\n",
       "      <td>0.4</td>\n",
       "      <td>0.36</td>\n",
       "      <td>0.84</td>\n",
       "    </tr>\n",
       "  </tbody>\n",
       "</table>\n",
       "</div>"
      ]
     },
     "execution_count": 7,
     "metadata": {},
     "output_type": "execute_result"
    }
   ],
   "execution_count": 7
  },
  {
   "cell_type": "code",
   "source": [
    "#Our new prior probability is our previous posterior probability, Posterior1.\n",
    "#Compute and print the table.\n",
    "\n",
    "bonds['Joint2'] = bonds['Likeli_Neg'] * bonds['Posterior1']\n",
    "prob_neg_data = bonds['Joint2'].sum()\n",
    "bonds['Posterior2'] = bonds['Likeli_Neg'] * bonds['Posterior1']/prob_neg_data\n",
    "bonds.round(2)"
   ],
   "metadata": {
    "colab": {
     "base_uri": "https://localhost:8080/",
     "height": 112
    },
    "id": "5w-CF14u5fKZ",
    "outputId": "b6963907-716a-4486-bb6e-fb061705a2fb",
    "ExecuteTime": {
     "end_time": "2025-05-06T17:33:15.694950Z",
     "start_time": "2025-05-06T17:33:15.687626Z"
    }
   },
   "outputs": [
    {
     "data": {
      "text/plain": [
       "            Prior  Likeli_Neg  Joint1  Posterior1  Joint2  Posterior2\n",
       "Default       0.1         0.7    0.07        0.16    0.11        0.25\n",
       "No Default    0.9         0.4    0.36        0.84    0.33        0.75"
      ],
      "text/html": [
       "<div>\n",
       "<style scoped>\n",
       "    .dataframe tbody tr th:only-of-type {\n",
       "        vertical-align: middle;\n",
       "    }\n",
       "\n",
       "    .dataframe tbody tr th {\n",
       "        vertical-align: top;\n",
       "    }\n",
       "\n",
       "    .dataframe thead th {\n",
       "        text-align: right;\n",
       "    }\n",
       "</style>\n",
       "<table border=\"1\" class=\"dataframe\">\n",
       "  <thead>\n",
       "    <tr style=\"text-align: right;\">\n",
       "      <th></th>\n",
       "      <th>Prior</th>\n",
       "      <th>Likeli_Neg</th>\n",
       "      <th>Joint1</th>\n",
       "      <th>Posterior1</th>\n",
       "      <th>Joint2</th>\n",
       "      <th>Posterior2</th>\n",
       "    </tr>\n",
       "  </thead>\n",
       "  <tbody>\n",
       "    <tr>\n",
       "      <th>Default</th>\n",
       "      <td>0.1</td>\n",
       "      <td>0.7</td>\n",
       "      <td>0.07</td>\n",
       "      <td>0.16</td>\n",
       "      <td>0.11</td>\n",
       "      <td>0.25</td>\n",
       "    </tr>\n",
       "    <tr>\n",
       "      <th>No Default</th>\n",
       "      <td>0.9</td>\n",
       "      <td>0.4</td>\n",
       "      <td>0.36</td>\n",
       "      <td>0.84</td>\n",
       "      <td>0.33</td>\n",
       "      <td>0.75</td>\n",
       "    </tr>\n",
       "  </tbody>\n",
       "</table>\n",
       "</div>"
      ]
     },
     "execution_count": 8,
     "metadata": {},
     "output_type": "execute_result"
    }
   ],
   "execution_count": 8
  },
  {
   "cell_type": "code",
   "source": [
    "# Create a new table so that you can plot a graph with the appropriate information\n",
    "table = bonds[['Prior', 'Posterior1', 'Posterior2']].round(2)\n",
    "\n",
    "# Change columns so that x axis is the number of negative ratings\n",
    "table.columns = ['0', '1', '2']\n",
    "\n",
    "# Select the row to plot in the graph and print it.\n",
    "default_row = table.iloc[0]\n",
    "default_row.plot(figsize = (7,6), grid = True,\n",
    "xlabel = 'Updates based on recent negative ratings',\n",
    "ylabel = 'Probability of default', title = 'XYZ Bonds');"
   ],
   "metadata": {
    "colab": {
     "base_uri": "https://localhost:8080/",
     "height": 564
    },
    "id": "cGzPErR85jYq",
    "outputId": "5a6234b9-c32d-4bd7-e105-5cd006110721",
    "ExecuteTime": {
     "end_time": "2025-05-06T17:33:15.811357Z",
     "start_time": "2025-05-06T17:33:15.732051Z"
    }
   },
   "outputs": [
    {
     "data": {
      "text/plain": [
       "<Figure size 700x600 with 1 Axes>"
      ],
      "image/png": "[encoded data removed]"
     },
     "metadata": {},
     "output_type": "display_data"
    }
   ],
   "execution_count": 9
  }
 ]
}
