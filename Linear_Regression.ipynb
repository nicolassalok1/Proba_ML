{
 "nbformat": 4,
 "nbformat_minor": 0,
 "metadata": {
  "colab": {
   "provenance": [],
   "authorship_tag": "ABX9TyNPfgThvcmLjJ8XN7XvvJTz"
  },
  "kernelspec": {
   "name": "python3",
   "display_name": "Python 3 (ipykernel)",
   "language": "python"
  },
  "language_info": {
   "name": "python"
  }
 },
 "cells": [
  {
   "cell_type": "markdown",
   "source": [
    "# Developing market models using frequentist linear regression"
   ],
   "metadata": {
    "id": "fpDqf0ZG0066"
   }
  },
  {
   "cell_type": "code",
   "source": "",
   "metadata": {
    "id": "3-JvQeDEwuu1",
    "ExecuteTime": {
     "end_time": "2025-05-08T13:37:18.693994Z",
     "start_time": "2025-05-08T13:37:17.814335Z"
    }
   },
   "outputs": [],
   "execution_count": 1
  },
  {
   "cell_type": "code",
   "metadata": {
    "colab": {
     "base_uri": "https://localhost:8080/",
     "height": 1000
    },
    "id": "AwDUrkSkwaD_",
    "outputId": "06e7ebc5-6dc8-441a-ff8d-7358ac294d3b",
    "jupyter": {
     "is_executing": true
    },
    "ExecuteTime": {
     "start_time": "2025-05-08T14:06:13.874692Z"
    }
   },
   "source": [
    "# Install Yahoo finance package\n",
    "# Import relevant Python packages\n",
    "import statsmodels.api as sm\n",
    "import pandas as pd\n",
    "import yfinance as yf\n",
    "\n",
    "import matplotlib.pyplot as plt\n",
    "#plt.style.use('seaborn')\n",
    "from datetime import datetime\n",
    "\n",
    "\n",
    "# Import financial data\n",
    "start = datetime(1993, 3, 1)\n",
    "end = datetime(2023, 3, 1)\n",
    "\n",
    "# S&P 500 index is a proxy for the market\n",
    "market = yf.Ticker('SPY').history(start=start, end=end)\n",
    "# Ticker symbol for Apple, the most liquid stock in the world\n",
    "stock = yf.Ticker('AAPL').history(start=start, end=end)\n",
    "# 10 year US treasury note is the proxy for risk free rate\n",
    "riskfree_rate = yf.Ticker('^TNX').history(start=start, end=end)\n",
    "# Create dataframe to hold daily returns of securities\n",
    "daily_returns = pd.DataFrame()\n",
    "daily_returns['market'] = market['Close'].pct_change(1)*100\n",
    "daily_returns['stock'] = stock['Close'].pct_change(1)*100\n",
    "# Compounded daily rate based on 360 days for the calendar year used in the bond market\n",
    "daily_returns['riskfree'] = (1 + riskfree_rate['Close']) ** (1/360) - 1\n",
    "# Plot and summarize the distribution of daily returns\n",
    "plt.hist(daily_returns['market']), plt.title('Distribution of Market (SPY) Daily Returns'), plt.xlabel('Daily Percentage Returns'), plt.ylabel('Frequency'), plt.show()\n",
    "# Analyze descriptive statistics\n",
    "print(\"Descriptive Statistics of the Market's daily percentage returns:\\n{}\".format(daily_returns['market'].describe()))\n",
    "\n",
    "plt.hist(daily_returns['stock']), plt.title('Distribution of Apple Inc. (AAPL) Daily Returns'), plt.xlabel('Daily Percentage Returns'), plt.ylabel('Frequency'), plt.show()\n",
    "# Analyze descriptive statistics\n",
    "print(\"Descriptive Statistics of the Apple's daily percentage returns:\\n{}\".format(daily_returns['stock'].describe()))\n",
    "\n",
    "\n",
    "\n",
    "\n",
    "\n",
    "\n",
    "# Vérifier combien de valeurs NaN sont présentes\n",
    "print(f\"Nombre de valeurs NaN dans riskfree: {daily_returns['riskfree'].isna().sum()}\")\n",
    "\n",
    "# Examiner où les NaN apparaissent (si vous avez un index temporel)\n",
    "if daily_returns.index.dtype.kind == 'M':  # Si l'index est de type datetime\n",
    "    print(daily_returns[daily_returns['riskfree'].isna()].index)\n",
    "\n",
    "\n",
    "\n",
    "\n",
    "\n",
    "# Analyze descriptive statistics\n",
    "print(\"Descriptive Statistics of the 10 year note daily percentage returns:\\n{}\".format(daily_returns['riskfree'].describe()))\n",
    "# Examine missing rows in the dataframe\n",
    "market.index.difference(riskfree_rate.index)\n",
    "# Fill rows with previous day's risk-free rate since daily rates are generally stable\n",
    "daily_returns = daily_returns.ffill()\n",
    "# Drop NaNs in first row because of percentage calculations\n",
    "daily_returns = daily_returns.dropna()\n",
    "# Check dataframe for null values\n",
    "daily_returns.isnull().sum()\n",
    "# Check first five rows of dataframe\n",
    "daily_returns.head()\n",
    "# AAPL's Market Model based on daily excess returns\n",
    "\n",
    "# Daily excess returns of AAPL\n",
    "y = daily_returns['stock'] - daily_returns['riskfree']\n",
    "# Daily excess returns of the market\n",
    "x = daily_returns['market'] - daily_returns['riskfree']\n",
    "\n",
    "# Plot the data\n",
    "plt.scatter(x,y)\n",
    "\n",
    "# Add the constant vector to obtain the intecept\n",
    "x = sm.add_constant(x)\n",
    "\n",
    "# Use Ordinary Least Squares algorithm to find the line of best fit\n",
    "market_model = sm.OLS(y, x)\n",
    "\n",
    "print(\"iuhiuhiuhiuh\" + market_model)\n",
    "\n",
    "market_model.fit()\n",
    "\n",
    "# Plot the line of best fit\n",
    "plt.plot(x, x*market_model.params[0]+market_model.params['const'])\n",
    "plt.title('Market Model of AAPL'), plt.xlabel('SPY Daily Excess Returns'), plt.ylabel('AAPL Daily Excess Returns'), plt.show()\n",
    "\n",
    "# Display the values of alpha and beta of AAPL's market model\n",
    "print(\"According to AAPL's Market Model, the security had a realized Alpha of {0}% and Beta of {1}\".format(round(market_model.params['const'],2), round(market_model.params[0],2)))\n"
   ],
   "outputs": [],
   "execution_count": null
  },
  {
   "cell_type": "code",
   "source": "print(market_model.summary())",
   "metadata": {
    "colab": {
     "base_uri": "https://localhost:8080/"
    },
    "id": "arP6quhu4ErC",
    "outputId": "2a9b4537-bcd1-47fb-d757-0196a0ca8261",
    "ExecuteTime": {
     "end_time": "2025-05-08T13:37:22.149719200Z",
     "start_time": "2025-05-08T13:26:31.526061Z"
    }
   },
   "outputs": [
    {
     "ename": "NameError",
     "evalue": "name 'market_model' is not defined",
     "output_type": "error",
     "traceback": [
      "\u001B[31m---------------------------------------------------------------------------\u001B[39m",
      "\u001B[31mNameError\u001B[39m                                 Traceback (most recent call last)",
      "\u001B[36mCell\u001B[39m\u001B[36m \u001B[39m\u001B[32mIn[4]\u001B[39m\u001B[32m, line 1\u001B[39m\n\u001B[32m----> \u001B[39m\u001B[32m1\u001B[39m \u001B[38;5;28mprint\u001B[39m(market_model.summary())\n",
      "\u001B[31mNameError\u001B[39m: name 'market_model' is not defined"
     ]
    }
   ],
   "execution_count": 4
  }
 ]
}
