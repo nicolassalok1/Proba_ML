{
 "nbformat": 4,
 "nbformat_minor": 0,
 "metadata": {
  "colab": {
   "provenance": [],
   "authorship_tag": "ABX9TyNPfgThvcmLjJ8XN7XvvJTz"
  },
  "kernelspec": {
   "name": "python3",
   "display_name": "Python 3 (ipykernel)",
   "language": "python"
  },
  "language_info": {
   "name": "python"
  }
 },
 "cells": [
  {
   "cell_type": "markdown",
   "source": [
    "# Developing market models using frequentist linear regression"
   ],
   "metadata": {
    "id": "fpDqf0ZG0066"
   }
  },
  {
   "cell_type": "code",
   "source": [
    "# Install Yahoo finance package\n",
    "\n",
    "\n",
    "# Import relevant Python packages\n",
    "import statsmodels.api as sm\n",
    "import pandas as pd\n",
    "import yfinance as yf\n",
    "\n",
    "import matplotlib.pyplot as plt\n",
    "#plt.style.use('seaborn')\n",
    "from datetime import datetime"
   ],
   "metadata": {
    "id": "3-JvQeDEwuu1",
    "ExecuteTime": {
     "end_time": "2025-05-06T17:33:03.400331Z",
     "start_time": "2025-05-06T17:33:03.392271Z"
    }
   },
   "outputs": [],
   "execution_count": 3
  },
  {
   "cell_type": "code",
   "metadata": {
    "colab": {
     "base_uri": "https://localhost:8080/",
     "height": 1000
    },
    "id": "AwDUrkSkwaD_",
    "outputId": "06e7ebc5-6dc8-441a-ff8d-7358ac294d3b",
    "ExecuteTime": {
     "end_time": "2025-05-06T17:33:04.797789Z",
     "start_time": "2025-05-06T17:33:03.414526Z"
    }
   },
   "source": [
    "# Import financial data\n",
    "start = datetime(1993, 3, 1)\n",
    "end = datetime(2023, 3, 1)\n",
    "\n",
    "# S&P 500 index is a proxy for the market\n",
    "market = yf.Ticker('SPY').history(start=start, end=end)\n",
    "# Ticker symbol for Apple, the most liquid stock in the world\n",
    "stock = yf.Ticker('AAPL').history(start=start, end=end)\n",
    "# 10 year US treasury note is the proxy for risk free rate\n",
    "riskfree_rate = yf.Ticker('^TNX').history(start=start, end=end)\n",
    "# Create dataframe to hold daily returns of securities\n",
    "daily_returns = pd.DataFrame()\n",
    "daily_returns['market'] = market['Close'].pct_change(1)*100\n",
    "daily_returns['stock'] = stock['Close'].pct_change(1)*100\n",
    "# Compounded daily rate based on 360 days for the calendar year used in the bond market\n",
    "daily_returns['riskfree'] = (1 + riskfree_rate['Close']) ** (1/360) - 1\n",
    "# Plot and summarize the distribution of daily returns\n",
    "plt.hist(daily_returns['market']), plt.title('Distribution of Market (SPY) Daily Returns'), plt.xlabel('Daily Percentage Returns'), plt.ylabel('Frequency'), plt.show()\n",
    "# Analyze descriptive statistics\n",
    "print(\"Descriptive Statistics of the Market's daily percentage returns:\\n{}\".format(daily_returns['market'].describe()))\n",
    "\n",
    "plt.hist(daily_returns['stock']), plt.title('Distribution of Apple Inc. (AAPL) Daily Returns'), plt.xlabel('Daily Percentage Returns'), plt.ylabel('Frequency'), plt.show()\n",
    "# Analyze descriptive statistics\n",
    "print(\"Descriptive Statistics of the Apple's daily percentage returns:\\n{}\".format(daily_returns['stock'].describe()))\n",
    "\n",
    "\n",
    "\n",
    "\n",
    "\n",
    "\n",
    "# Vérifier combien de valeurs NaN sont présentes\n",
    "print(f\"Nombre de valeurs NaN dans riskfree: {daily_returns['riskfree'].isna().sum()}\")\n",
    "\n",
    "# Examiner où les NaN apparaissent (si vous avez un index temporel)\n",
    "if daily_returns.index.dtype.kind == 'M':  # Si l'index est de type datetime\n",
    "    print(daily_returns[daily_returns['riskfree'].isna()].index)\n",
    "\n",
    "\n",
    "\n",
    "\n",
    "\n",
    "# Analyze descriptive statistics\n",
    "print(\"Descriptive Statistics of the 10 year note daily percentage returns:\\n{}\".format(daily_returns['riskfree'].describe()))\n",
    "# Examine missing rows in the dataframe\n",
    "market.index.difference(riskfree_rate.index)\n",
    "# Fill rows with previous day's risk-free rate since daily rates are generally stable\n",
    "daily_returns = daily_returns.ffill()\n",
    "# Drop NaNs in first row because of percentage calculations\n",
    "daily_returns = daily_returns.dropna()\n",
    "# Check dataframe for null values\n",
    "daily_returns.isnull().sum()\n",
    "# Check first five rows of dataframe\n",
    "daily_returns.head()\n",
    "# AAPL's Market Model based on daily excess returns\n",
    "\n",
    "# Daily excess returns of AAPL\n",
    "y = daily_returns['stock'] - daily_returns['riskfree']\n",
    "# Daily excess returns of the market\n",
    "x = daily_returns['market'] - daily_returns['riskfree']\n",
    "\n",
    "# Plot the data\n",
    "plt.scatter(x,y)\n",
    "\n",
    "# Add the constant vector to obtain the intecept\n",
    "x = sm.add_constant(x)\n",
    "\n",
    "# Use Ordinary Least Squares algorithm to find the line of best fit\n",
    "market_model = sm.OLS(y, x).fit()\n",
    "\n",
    "# Plot the line of best fit\n",
    "plt.plot(x, x*market_model.params[0]+market_model.params['const'])\n",
    "plt.title('Market Model of AAPL'), plt.xlabel('SPY Daily Excess Returns'), plt.ylabel('AAPL Daily Excess Returns'), plt.show();\n",
    "\n",
    "# Display the values of alpha and beta of AAPL's market model\n",
    "print(\"According to AAPL's Market Model, the security had a realized Alpha of {0}% and Beta of {1}\".format(round(market_model.params['const'],2), round(market_model.params[0],2)))\n"
   ],
   "outputs": [
    {
     "ename": "YFRateLimitError",
     "evalue": "Too Many Requests. Rate limited. Try after a while.",
     "output_type": "error",
     "traceback": [
      "\u001B[31m---------------------------------------------------------------------------\u001B[39m",
      "\u001B[31mYFRateLimitError\u001B[39m                          Traceback (most recent call last)",
      "\u001B[36mCell\u001B[39m\u001B[36m \u001B[39m\u001B[32mIn[4]\u001B[39m\u001B[32m, line 6\u001B[39m\n\u001B[32m      3\u001B[39m end = datetime(\u001B[32m2023\u001B[39m, \u001B[32m3\u001B[39m, \u001B[32m1\u001B[39m)\n\u001B[32m      5\u001B[39m \u001B[38;5;66;03m# S&P 500 index is a proxy for the market\u001B[39;00m\n\u001B[32m----> \u001B[39m\u001B[32m6\u001B[39m market = \u001B[43myf\u001B[49m\u001B[43m.\u001B[49m\u001B[43mTicker\u001B[49m\u001B[43m(\u001B[49m\u001B[33;43m'\u001B[39;49m\u001B[33;43mSPY\u001B[39;49m\u001B[33;43m'\u001B[39;49m\u001B[43m)\u001B[49m\u001B[43m.\u001B[49m\u001B[43mhistory\u001B[49m\u001B[43m(\u001B[49m\u001B[43mstart\u001B[49m\u001B[43m=\u001B[49m\u001B[43mstart\u001B[49m\u001B[43m,\u001B[49m\u001B[43m \u001B[49m\u001B[43mend\u001B[49m\u001B[43m=\u001B[49m\u001B[43mend\u001B[49m\u001B[43m)\u001B[49m\n\u001B[32m      7\u001B[39m \u001B[38;5;66;03m# Ticker symbol for Apple, the most liquid stock in the world\u001B[39;00m\n\u001B[32m      8\u001B[39m stock = yf.Ticker(\u001B[33m'\u001B[39m\u001B[33mAAPL\u001B[39m\u001B[33m'\u001B[39m).history(start=start, end=end)\n",
      "\u001B[36mFile \u001B[39m\u001B[32mD:\\Programmes\\Anaconda\\envs\\Proba_ML\\Lib\\site-packages\\yfinance\\utils.py:103\u001B[39m, in \u001B[36mlog_indent_decorator.<locals>.wrapper\u001B[39m\u001B[34m(*args, **kwargs)\u001B[39m\n\u001B[32m    100\u001B[39m logger.debug(\u001B[33mf\u001B[39m\u001B[33m'\u001B[39m\u001B[33mEntering \u001B[39m\u001B[38;5;132;01m{\u001B[39;00mfunc.\u001B[34m__name__\u001B[39m\u001B[38;5;132;01m}\u001B[39;00m\u001B[33m()\u001B[39m\u001B[33m'\u001B[39m)\n\u001B[32m    102\u001B[39m \u001B[38;5;28;01mwith\u001B[39;00m IndentationContext():\n\u001B[32m--> \u001B[39m\u001B[32m103\u001B[39m     result = \u001B[43mfunc\u001B[49m\u001B[43m(\u001B[49m\u001B[43m*\u001B[49m\u001B[43margs\u001B[49m\u001B[43m,\u001B[49m\u001B[43m \u001B[49m\u001B[43m*\u001B[49m\u001B[43m*\u001B[49m\u001B[43mkwargs\u001B[49m\u001B[43m)\u001B[49m\n\u001B[32m    105\u001B[39m logger.debug(\u001B[33mf\u001B[39m\u001B[33m'\u001B[39m\u001B[33mExiting \u001B[39m\u001B[38;5;132;01m{\u001B[39;00mfunc.\u001B[34m__name__\u001B[39m\u001B[38;5;132;01m}\u001B[39;00m\u001B[33m()\u001B[39m\u001B[33m'\u001B[39m)\n\u001B[32m    106\u001B[39m \u001B[38;5;28;01mreturn\u001B[39;00m result\n",
      "\u001B[36mFile \u001B[39m\u001B[32mD:\\Programmes\\Anaconda\\envs\\Proba_ML\\Lib\\site-packages\\yfinance\\base.py:91\u001B[39m, in \u001B[36mTickerBase.history\u001B[39m\u001B[34m(self, *args, **kwargs)\u001B[39m\n\u001B[32m     89\u001B[39m \u001B[38;5;129m@utils\u001B[39m.log_indent_decorator\n\u001B[32m     90\u001B[39m \u001B[38;5;28;01mdef\u001B[39;00m\u001B[38;5;250m \u001B[39m\u001B[34mhistory\u001B[39m(\u001B[38;5;28mself\u001B[39m, *args, **kwargs) -> pd.DataFrame:\n\u001B[32m---> \u001B[39m\u001B[32m91\u001B[39m     \u001B[38;5;28;01mreturn\u001B[39;00m \u001B[38;5;28;43mself\u001B[39;49m\u001B[43m.\u001B[49m\u001B[43m_lazy_load_price_history\u001B[49m\u001B[43m(\u001B[49m\u001B[43m)\u001B[49m\u001B[43m.\u001B[49m\u001B[43mhistory\u001B[49m\u001B[43m(\u001B[49m\u001B[43m*\u001B[49m\u001B[43margs\u001B[49m\u001B[43m,\u001B[49m\u001B[43m \u001B[49m\u001B[43m*\u001B[49m\u001B[43m*\u001B[49m\u001B[43mkwargs\u001B[49m\u001B[43m)\u001B[49m\n",
      "\u001B[36mFile \u001B[39m\u001B[32mD:\\Programmes\\Anaconda\\envs\\Proba_ML\\Lib\\site-packages\\yfinance\\utils.py:103\u001B[39m, in \u001B[36mlog_indent_decorator.<locals>.wrapper\u001B[39m\u001B[34m(*args, **kwargs)\u001B[39m\n\u001B[32m    100\u001B[39m logger.debug(\u001B[33mf\u001B[39m\u001B[33m'\u001B[39m\u001B[33mEntering \u001B[39m\u001B[38;5;132;01m{\u001B[39;00mfunc.\u001B[34m__name__\u001B[39m\u001B[38;5;132;01m}\u001B[39;00m\u001B[33m()\u001B[39m\u001B[33m'\u001B[39m)\n\u001B[32m    102\u001B[39m \u001B[38;5;28;01mwith\u001B[39;00m IndentationContext():\n\u001B[32m--> \u001B[39m\u001B[32m103\u001B[39m     result = \u001B[43mfunc\u001B[49m\u001B[43m(\u001B[49m\u001B[43m*\u001B[49m\u001B[43margs\u001B[49m\u001B[43m,\u001B[49m\u001B[43m \u001B[49m\u001B[43m*\u001B[49m\u001B[43m*\u001B[49m\u001B[43mkwargs\u001B[49m\u001B[43m)\u001B[49m\n\u001B[32m    105\u001B[39m logger.debug(\u001B[33mf\u001B[39m\u001B[33m'\u001B[39m\u001B[33mExiting \u001B[39m\u001B[38;5;132;01m{\u001B[39;00mfunc.\u001B[34m__name__\u001B[39m\u001B[38;5;132;01m}\u001B[39;00m\u001B[33m()\u001B[39m\u001B[33m'\u001B[39m)\n\u001B[32m    106\u001B[39m \u001B[38;5;28;01mreturn\u001B[39;00m result\n",
      "\u001B[36mFile \u001B[39m\u001B[32mD:\\Programmes\\Anaconda\\envs\\Proba_ML\\Lib\\site-packages\\yfinance\\scrapers\\history.py:178\u001B[39m, in \u001B[36mPriceHistory.history\u001B[39m\u001B[34m(self, period, interval, start, end, prepost, actions, auto_adjust, back_adjust, repair, keepna, proxy, rounding, timeout, raise_errors)\u001B[39m\n\u001B[32m    176\u001B[39m         get_fn = \u001B[38;5;28mself\u001B[39m._data.cache_get\n\u001B[32m    177\u001B[39m \u001B[38;5;28;01mtry\u001B[39;00m:\n\u001B[32m--> \u001B[39m\u001B[32m178\u001B[39m     data = \u001B[43mget_fn\u001B[49m\u001B[43m(\u001B[49m\n\u001B[32m    179\u001B[39m \u001B[43m        \u001B[49m\u001B[43murl\u001B[49m\u001B[43m=\u001B[49m\u001B[43murl\u001B[49m\u001B[43m,\u001B[49m\n\u001B[32m    180\u001B[39m \u001B[43m        \u001B[49m\u001B[43mparams\u001B[49m\u001B[43m=\u001B[49m\u001B[43mparams\u001B[49m\u001B[43m,\u001B[49m\n\u001B[32m    181\u001B[39m \u001B[43m        \u001B[49m\u001B[43mtimeout\u001B[49m\u001B[43m=\u001B[49m\u001B[43mtimeout\u001B[49m\n\u001B[32m    182\u001B[39m \u001B[43m    \u001B[49m\u001B[43m)\u001B[49m\n\u001B[32m    183\u001B[39m     \u001B[38;5;28;01mif\u001B[39;00m \u001B[33m\"\u001B[39m\u001B[33mWill be right back\u001B[39m\u001B[33m\"\u001B[39m \u001B[38;5;129;01min\u001B[39;00m data.text \u001B[38;5;129;01mor\u001B[39;00m data \u001B[38;5;129;01mis\u001B[39;00m \u001B[38;5;28;01mNone\u001B[39;00m:\n\u001B[32m    184\u001B[39m         \u001B[38;5;28;01mraise\u001B[39;00m \u001B[38;5;167;01mRuntimeError\u001B[39;00m(\u001B[33m\"\u001B[39m\u001B[33m*** YAHOO! FINANCE IS CURRENTLY DOWN! ***\u001B[39m\u001B[38;5;130;01m\\n\u001B[39;00m\u001B[33m\"\u001B[39m\n\u001B[32m    185\u001B[39m                            \u001B[33m\"\u001B[39m\u001B[33mOur engineers are working quickly to resolve \u001B[39m\u001B[33m\"\u001B[39m\n\u001B[32m    186\u001B[39m                            \u001B[33m\"\u001B[39m\u001B[33mthe issue. Thank you for your patience.\u001B[39m\u001B[33m\"\u001B[39m)\n",
      "\u001B[36mFile \u001B[39m\u001B[32mD:\\Programmes\\Anaconda\\envs\\Proba_ML\\Lib\\site-packages\\yfinance\\data.py:32\u001B[39m, in \u001B[36mlru_cache_freezeargs.<locals>.wrapped\u001B[39m\u001B[34m(*args, **kwargs)\u001B[39m\n\u001B[32m     30\u001B[39m args = \u001B[38;5;28mtuple\u001B[39m([\u001B[38;5;28mtuple\u001B[39m(arg) \u001B[38;5;28;01mif\u001B[39;00m \u001B[38;5;28misinstance\u001B[39m(arg, \u001B[38;5;28mlist\u001B[39m) \u001B[38;5;28;01melse\u001B[39;00m arg \u001B[38;5;28;01mfor\u001B[39;00m arg \u001B[38;5;129;01min\u001B[39;00m args])\n\u001B[32m     31\u001B[39m kwargs = {k: \u001B[38;5;28mtuple\u001B[39m(v) \u001B[38;5;28;01mif\u001B[39;00m \u001B[38;5;28misinstance\u001B[39m(v, \u001B[38;5;28mlist\u001B[39m) \u001B[38;5;28;01melse\u001B[39;00m v \u001B[38;5;28;01mfor\u001B[39;00m k, v \u001B[38;5;129;01min\u001B[39;00m kwargs.items()}\n\u001B[32m---> \u001B[39m\u001B[32m32\u001B[39m \u001B[38;5;28;01mreturn\u001B[39;00m \u001B[43mfunc\u001B[49m\u001B[43m(\u001B[49m\u001B[43m*\u001B[49m\u001B[43margs\u001B[49m\u001B[43m,\u001B[49m\u001B[43m \u001B[49m\u001B[43m*\u001B[49m\u001B[43m*\u001B[49m\u001B[43mkwargs\u001B[49m\u001B[43m)\u001B[49m\n",
      "\u001B[36mFile \u001B[39m\u001B[32mD:\\Programmes\\Anaconda\\envs\\Proba_ML\\Lib\\site-packages\\yfinance\\data.py:431\u001B[39m, in \u001B[36mYfData.cache_get\u001B[39m\u001B[34m(self, url, user_agent_headers, params, timeout)\u001B[39m\n\u001B[32m    428\u001B[39m \u001B[38;5;129m@lru_cache_freezeargs\u001B[39m\n\u001B[32m    429\u001B[39m \u001B[38;5;129m@lru_cache\u001B[39m(maxsize=cache_maxsize)\n\u001B[32m    430\u001B[39m \u001B[38;5;28;01mdef\u001B[39;00m\u001B[38;5;250m \u001B[39m\u001B[34mcache_get\u001B[39m(\u001B[38;5;28mself\u001B[39m, url, user_agent_headers=\u001B[38;5;28;01mNone\u001B[39;00m, params=\u001B[38;5;28;01mNone\u001B[39;00m, timeout=\u001B[32m30\u001B[39m):\n\u001B[32m--> \u001B[39m\u001B[32m431\u001B[39m     \u001B[38;5;28;01mreturn\u001B[39;00m \u001B[38;5;28;43mself\u001B[39;49m\u001B[43m.\u001B[49m\u001B[43mget\u001B[49m\u001B[43m(\u001B[49m\u001B[43murl\u001B[49m\u001B[43m,\u001B[49m\u001B[43m \u001B[49m\u001B[43muser_agent_headers\u001B[49m\u001B[43m,\u001B[49m\u001B[43m \u001B[49m\u001B[43mparams\u001B[49m\u001B[43m,\u001B[49m\u001B[43m \u001B[49m\u001B[43mtimeout\u001B[49m\u001B[43m)\u001B[49m\n",
      "\u001B[36mFile \u001B[39m\u001B[32mD:\\Programmes\\Anaconda\\envs\\Proba_ML\\Lib\\site-packages\\yfinance\\utils.py:103\u001B[39m, in \u001B[36mlog_indent_decorator.<locals>.wrapper\u001B[39m\u001B[34m(*args, **kwargs)\u001B[39m\n\u001B[32m    100\u001B[39m logger.debug(\u001B[33mf\u001B[39m\u001B[33m'\u001B[39m\u001B[33mEntering \u001B[39m\u001B[38;5;132;01m{\u001B[39;00mfunc.\u001B[34m__name__\u001B[39m\u001B[38;5;132;01m}\u001B[39;00m\u001B[33m()\u001B[39m\u001B[33m'\u001B[39m)\n\u001B[32m    102\u001B[39m \u001B[38;5;28;01mwith\u001B[39;00m IndentationContext():\n\u001B[32m--> \u001B[39m\u001B[32m103\u001B[39m     result = \u001B[43mfunc\u001B[49m\u001B[43m(\u001B[49m\u001B[43m*\u001B[49m\u001B[43margs\u001B[49m\u001B[43m,\u001B[49m\u001B[43m \u001B[49m\u001B[43m*\u001B[49m\u001B[43m*\u001B[49m\u001B[43mkwargs\u001B[49m\u001B[43m)\u001B[49m\n\u001B[32m    105\u001B[39m logger.debug(\u001B[33mf\u001B[39m\u001B[33m'\u001B[39m\u001B[33mExiting \u001B[39m\u001B[38;5;132;01m{\u001B[39;00mfunc.\u001B[34m__name__\u001B[39m\u001B[38;5;132;01m}\u001B[39;00m\u001B[33m()\u001B[39m\u001B[33m'\u001B[39m)\n\u001B[32m    106\u001B[39m \u001B[38;5;28;01mreturn\u001B[39;00m result\n",
      "\u001B[36mFile \u001B[39m\u001B[32mD:\\Programmes\\Anaconda\\envs\\Proba_ML\\Lib\\site-packages\\yfinance\\data.py:364\u001B[39m, in \u001B[36mYfData.get\u001B[39m\u001B[34m(self, url, user_agent_headers, params, timeout)\u001B[39m\n\u001B[32m    362\u001B[39m \u001B[38;5;129m@utils\u001B[39m.log_indent_decorator\n\u001B[32m    363\u001B[39m \u001B[38;5;28;01mdef\u001B[39;00m\u001B[38;5;250m \u001B[39m\u001B[34mget\u001B[39m(\u001B[38;5;28mself\u001B[39m, url, user_agent_headers=\u001B[38;5;28;01mNone\u001B[39;00m, params=\u001B[38;5;28;01mNone\u001B[39;00m, timeout=\u001B[32m30\u001B[39m):\n\u001B[32m--> \u001B[39m\u001B[32m364\u001B[39m     \u001B[38;5;28;01mreturn\u001B[39;00m \u001B[38;5;28;43mself\u001B[39;49m\u001B[43m.\u001B[49m\u001B[43m_make_request\u001B[49m\u001B[43m(\u001B[49m\u001B[43murl\u001B[49m\u001B[43m,\u001B[49m\u001B[43m \u001B[49m\u001B[43mrequest_method\u001B[49m\u001B[43m \u001B[49m\u001B[43m=\u001B[49m\u001B[43m \u001B[49m\u001B[38;5;28;43mself\u001B[39;49m\u001B[43m.\u001B[49m\u001B[43m_session\u001B[49m\u001B[43m.\u001B[49m\u001B[43mget\u001B[49m\u001B[43m,\u001B[49m\u001B[43m \u001B[49m\u001B[43muser_agent_headers\u001B[49m\u001B[43m=\u001B[49m\u001B[43muser_agent_headers\u001B[49m\u001B[43m,\u001B[49m\u001B[43m \u001B[49m\u001B[43mparams\u001B[49m\u001B[43m=\u001B[49m\u001B[43mparams\u001B[49m\u001B[43m,\u001B[49m\u001B[43m \u001B[49m\u001B[43mtimeout\u001B[49m\u001B[43m=\u001B[49m\u001B[43mtimeout\u001B[49m\u001B[43m)\u001B[49m\n",
      "\u001B[36mFile \u001B[39m\u001B[32mD:\\Programmes\\Anaconda\\envs\\Proba_ML\\Lib\\site-packages\\yfinance\\utils.py:103\u001B[39m, in \u001B[36mlog_indent_decorator.<locals>.wrapper\u001B[39m\u001B[34m(*args, **kwargs)\u001B[39m\n\u001B[32m    100\u001B[39m logger.debug(\u001B[33mf\u001B[39m\u001B[33m'\u001B[39m\u001B[33mEntering \u001B[39m\u001B[38;5;132;01m{\u001B[39;00mfunc.\u001B[34m__name__\u001B[39m\u001B[38;5;132;01m}\u001B[39;00m\u001B[33m()\u001B[39m\u001B[33m'\u001B[39m)\n\u001B[32m    102\u001B[39m \u001B[38;5;28;01mwith\u001B[39;00m IndentationContext():\n\u001B[32m--> \u001B[39m\u001B[32m103\u001B[39m     result = \u001B[43mfunc\u001B[49m\u001B[43m(\u001B[49m\u001B[43m*\u001B[49m\u001B[43margs\u001B[49m\u001B[43m,\u001B[49m\u001B[43m \u001B[49m\u001B[43m*\u001B[49m\u001B[43m*\u001B[49m\u001B[43mkwargs\u001B[49m\u001B[43m)\u001B[49m\n\u001B[32m    105\u001B[39m logger.debug(\u001B[33mf\u001B[39m\u001B[33m'\u001B[39m\u001B[33mExiting \u001B[39m\u001B[38;5;132;01m{\u001B[39;00mfunc.\u001B[34m__name__\u001B[39m\u001B[38;5;132;01m}\u001B[39;00m\u001B[33m()\u001B[39m\u001B[33m'\u001B[39m)\n\u001B[32m    106\u001B[39m \u001B[38;5;28;01mreturn\u001B[39;00m result\n",
      "\u001B[36mFile \u001B[39m\u001B[32mD:\\Programmes\\Anaconda\\envs\\Proba_ML\\Lib\\site-packages\\yfinance\\data.py:424\u001B[39m, in \u001B[36mYfData._make_request\u001B[39m\u001B[34m(self, url, request_method, user_agent_headers, body, params, timeout)\u001B[39m\n\u001B[32m    422\u001B[39m     \u001B[38;5;66;03m# Raise exception if rate limited\u001B[39;00m\n\u001B[32m    423\u001B[39m     \u001B[38;5;28;01mif\u001B[39;00m response.status_code == \u001B[32m429\u001B[39m:\n\u001B[32m--> \u001B[39m\u001B[32m424\u001B[39m         \u001B[38;5;28;01mraise\u001B[39;00m YFRateLimitError()\n\u001B[32m    426\u001B[39m \u001B[38;5;28;01mreturn\u001B[39;00m response\n",
      "\u001B[31mYFRateLimitError\u001B[39m: Too Many Requests. Rate limited. Try after a while."
     ]
    }
   ],
   "execution_count": 4
  },
  {
   "cell_type": "code",
   "source": [
    "print(market_model.summary())"
   ],
   "metadata": {
    "colab": {
     "base_uri": "https://localhost:8080/"
    },
    "id": "arP6quhu4ErC",
    "outputId": "2a9b4537-bcd1-47fb-d757-0196a0ca8261",
    "ExecuteTime": {
     "end_time": "2025-05-06T17:33:04.799787900Z",
     "start_time": "2025-04-26T13:42:14.036171Z"
    }
   },
   "outputs": [
    {
     "ename": "NameError",
     "evalue": "name 'market_model' is not defined",
     "output_type": "error",
     "traceback": [
      "\u001B[31m---------------------------------------------------------------------------\u001B[39m",
      "\u001B[31mNameError\u001B[39m                                 Traceback (most recent call last)",
      "\u001B[36mCell\u001B[39m\u001B[36m \u001B[39m\u001B[32mIn[5]\u001B[39m\u001B[32m, line 1\u001B[39m\n\u001B[32m----> \u001B[39m\u001B[32m1\u001B[39m \u001B[38;5;28mprint\u001B[39m(\u001B[43mmarket_model\u001B[49m.summary())\n",
      "\u001B[31mNameError\u001B[39m: name 'market_model' is not defined"
     ]
    }
   ],
   "execution_count": 5
  }
 ]
}
