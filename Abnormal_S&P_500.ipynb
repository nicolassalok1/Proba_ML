{
 "nbformat": 4,
 "nbformat_minor": 0,
 "metadata": {
  "colab": {
   "provenance": [],
   "authorship_tag": "ABX9TyNAy+E1pXzfd/8zXnXRmgk2"
  },
  "kernelspec": {
   "name": "python3",
   "display_name": "Python 3 (ipykernel)",
   "language": "python"
  },
  "language_info": {
   "name": "python"
  }
 },
 "cells": [
  {
   "cell_type": "markdown",
   "metadata": {
    "id": "o9XMg1Cs_Wah"
   },
   "source": [
    "# Abnormality of S&P 500 returns\n",
    "\n",
    "In this notebook, we are also going to challenge the fundamental tenets of theoretical finance that asset price returns are normally distributed and that these distributions are time invariant (stationary ergodic).\n"
   ]
  },
  {
   "cell_type": "markdown",
   "metadata": {
    "id": "8QZYjgZFBZr2"
   },
   "source": [
    "# 1. Import Python libaries\n",
    "\n",
    "Import the appropriate Python libraries you will need to import, process and analyze financial data from the web. Install the Yahoo finance package."
   ]
  },
  {
   "cell_type": "code",
   "metadata": {
    "id": "jyJFuzBhC5Bq",
    "ExecuteTime": {
     "end_time": "2025-05-06T17:31:00.248627Z",
     "start_time": "2025-05-06T17:31:00.244503Z"
    }
   },
   "source": [
    "# Import Python libraries\n",
    "import pandas as pd\n",
    "from datetime import datetime\n",
    "import numpy as np\n",
    "import seaborn as sns\n",
    "\n",
    "import matplotlib.pyplot as plt\n",
    "#plt.style.use('seaborn')\n",
    "\n",
    "# Install web scraper for Yahoo Finance\n",
    "import yfinance as yf"
   ],
   "outputs": [],
   "execution_count": 4
  },
  {
   "cell_type": "markdown",
   "metadata": {
    "id": "fExtF3YKFF4n"
   },
   "source": [
    "# 2. Testing for normality of asset price returns\n",
    "\n",
    "Import over 30 years of S&P 500 ('SPY') price data into a dataframe called equity. Use SPY's closing prices to compute its daily returns. Remove NaNs from your dataframe. Visualize and summarize SPY's daily price returns.  \n",
    "\n",
    "According to theoretical finance, asset price returns should be normally or gaussian distributed. This implies that the skewness and kurtosis of its distribution should be 0 +/- negligible sampling errors. Compute the skewness and kurtosis of S&P price returns to validate this claim.\n",
    "\n",
    "Extra Bonus: Repeat this experiment for any time period to check if this claim was ever valid."
   ]
  },
  {
   "cell_type": "code",
   "metadata": {
    "colab": {
     "base_uri": "https://localhost:8080/",
     "height": 725
    },
    "id": "njCZgLdYHLYf",
    "outputId": "70e115a5-581c-42c6-cadb-396377ac999f",
    "ExecuteTime": {
     "end_time": "2025-05-06T17:31:01.945905Z",
     "start_time": "2025-05-06T17:31:00.272482Z"
    }
   },
   "source": [
    "\n",
    "# Import over 30 years of S&P 500 ('SPY') price data into a dataframe called equity\n",
    "start = datetime(1993, 2, 1)\n",
    "end = datetime(2022, 10, 15)\n",
    "equity = yf.Ticker('SPY').history(start=start, end=end)\n",
    "\n",
    "# Use SPY's closing prices to compute its daily returns. Remove NaNs from your dataframe.\n",
    "equity['Returns'] = equity['Close'].pct_change(1)*100\n",
    "equity = equity.dropna()\n",
    "\n",
    "# Visualize and summarize SPY's daily price returns. Compute its skewness and kurtosis.\n",
    "plt.hist(equity['Returns']), plt.title('Distribution of S&P 500 Daily Percentage Returns Over the Past 30 Years'), plt.xlabel('Daily Percentage Returns'), plt.ylabel('Frequency'), plt.show();\n",
    "print(\"Descriptive statistics of S&P 500 percentage returns:\\n{}\".format(equity['Returns'].describe().round(2)))\n",
    "print('The skewness of S&P 500 returns is: {0:.2f} and the kurtosis is: {1:.2f}.'.format(equity['Returns'].skew(), equity['Returns'].kurtosis()))"
   ],
   "outputs": [
    {
     "ename": "YFRateLimitError",
     "evalue": "Too Many Requests. Rate limited. Try after a while.",
     "output_type": "error",
     "traceback": [
      "\u001B[31m---------------------------------------------------------------------------\u001B[39m",
      "\u001B[31mYFRateLimitError\u001B[39m                          Traceback (most recent call last)",
      "\u001B[36mCell\u001B[39m\u001B[36m \u001B[39m\u001B[32mIn[5]\u001B[39m\u001B[32m, line 4\u001B[39m\n\u001B[32m      2\u001B[39m start = datetime(\u001B[32m1993\u001B[39m, \u001B[32m2\u001B[39m, \u001B[32m1\u001B[39m)\n\u001B[32m      3\u001B[39m end = datetime(\u001B[32m2022\u001B[39m, \u001B[32m10\u001B[39m, \u001B[32m15\u001B[39m)\n\u001B[32m----> \u001B[39m\u001B[32m4\u001B[39m equity = \u001B[43myf\u001B[49m\u001B[43m.\u001B[49m\u001B[43mTicker\u001B[49m\u001B[43m(\u001B[49m\u001B[33;43m'\u001B[39;49m\u001B[33;43mSPY\u001B[39;49m\u001B[33;43m'\u001B[39;49m\u001B[43m)\u001B[49m\u001B[43m.\u001B[49m\u001B[43mhistory\u001B[49m\u001B[43m(\u001B[49m\u001B[43mstart\u001B[49m\u001B[43m=\u001B[49m\u001B[43mstart\u001B[49m\u001B[43m,\u001B[49m\u001B[43m \u001B[49m\u001B[43mend\u001B[49m\u001B[43m=\u001B[49m\u001B[43mend\u001B[49m\u001B[43m)\u001B[49m\n\u001B[32m      6\u001B[39m \u001B[38;5;66;03m# Use SPY's closing prices to compute its daily returns. Remove NaNs from your dataframe.\u001B[39;00m\n\u001B[32m      7\u001B[39m equity[\u001B[33m'\u001B[39m\u001B[33mReturns\u001B[39m\u001B[33m'\u001B[39m] = equity[\u001B[33m'\u001B[39m\u001B[33mClose\u001B[39m\u001B[33m'\u001B[39m].pct_change(\u001B[32m1\u001B[39m)*\u001B[32m100\u001B[39m\n",
      "\u001B[36mFile \u001B[39m\u001B[32mD:\\Programmes\\Anaconda\\envs\\Proba_ML\\Lib\\site-packages\\yfinance\\utils.py:103\u001B[39m, in \u001B[36mlog_indent_decorator.<locals>.wrapper\u001B[39m\u001B[34m(*args, **kwargs)\u001B[39m\n\u001B[32m    100\u001B[39m logger.debug(\u001B[33mf\u001B[39m\u001B[33m'\u001B[39m\u001B[33mEntering \u001B[39m\u001B[38;5;132;01m{\u001B[39;00mfunc.\u001B[34m__name__\u001B[39m\u001B[38;5;132;01m}\u001B[39;00m\u001B[33m()\u001B[39m\u001B[33m'\u001B[39m)\n\u001B[32m    102\u001B[39m \u001B[38;5;28;01mwith\u001B[39;00m IndentationContext():\n\u001B[32m--> \u001B[39m\u001B[32m103\u001B[39m     result = \u001B[43mfunc\u001B[49m\u001B[43m(\u001B[49m\u001B[43m*\u001B[49m\u001B[43margs\u001B[49m\u001B[43m,\u001B[49m\u001B[43m \u001B[49m\u001B[43m*\u001B[49m\u001B[43m*\u001B[49m\u001B[43mkwargs\u001B[49m\u001B[43m)\u001B[49m\n\u001B[32m    105\u001B[39m logger.debug(\u001B[33mf\u001B[39m\u001B[33m'\u001B[39m\u001B[33mExiting \u001B[39m\u001B[38;5;132;01m{\u001B[39;00mfunc.\u001B[34m__name__\u001B[39m\u001B[38;5;132;01m}\u001B[39;00m\u001B[33m()\u001B[39m\u001B[33m'\u001B[39m)\n\u001B[32m    106\u001B[39m \u001B[38;5;28;01mreturn\u001B[39;00m result\n",
      "\u001B[36mFile \u001B[39m\u001B[32mD:\\Programmes\\Anaconda\\envs\\Proba_ML\\Lib\\site-packages\\yfinance\\base.py:91\u001B[39m, in \u001B[36mTickerBase.history\u001B[39m\u001B[34m(self, *args, **kwargs)\u001B[39m\n\u001B[32m     89\u001B[39m \u001B[38;5;129m@utils\u001B[39m.log_indent_decorator\n\u001B[32m     90\u001B[39m \u001B[38;5;28;01mdef\u001B[39;00m\u001B[38;5;250m \u001B[39m\u001B[34mhistory\u001B[39m(\u001B[38;5;28mself\u001B[39m, *args, **kwargs) -> pd.DataFrame:\n\u001B[32m---> \u001B[39m\u001B[32m91\u001B[39m     \u001B[38;5;28;01mreturn\u001B[39;00m \u001B[38;5;28;43mself\u001B[39;49m\u001B[43m.\u001B[49m\u001B[43m_lazy_load_price_history\u001B[49m\u001B[43m(\u001B[49m\u001B[43m)\u001B[49m\u001B[43m.\u001B[49m\u001B[43mhistory\u001B[49m\u001B[43m(\u001B[49m\u001B[43m*\u001B[49m\u001B[43margs\u001B[49m\u001B[43m,\u001B[49m\u001B[43m \u001B[49m\u001B[43m*\u001B[49m\u001B[43m*\u001B[49m\u001B[43mkwargs\u001B[49m\u001B[43m)\u001B[49m\n",
      "\u001B[36mFile \u001B[39m\u001B[32mD:\\Programmes\\Anaconda\\envs\\Proba_ML\\Lib\\site-packages\\yfinance\\utils.py:103\u001B[39m, in \u001B[36mlog_indent_decorator.<locals>.wrapper\u001B[39m\u001B[34m(*args, **kwargs)\u001B[39m\n\u001B[32m    100\u001B[39m logger.debug(\u001B[33mf\u001B[39m\u001B[33m'\u001B[39m\u001B[33mEntering \u001B[39m\u001B[38;5;132;01m{\u001B[39;00mfunc.\u001B[34m__name__\u001B[39m\u001B[38;5;132;01m}\u001B[39;00m\u001B[33m()\u001B[39m\u001B[33m'\u001B[39m)\n\u001B[32m    102\u001B[39m \u001B[38;5;28;01mwith\u001B[39;00m IndentationContext():\n\u001B[32m--> \u001B[39m\u001B[32m103\u001B[39m     result = \u001B[43mfunc\u001B[49m\u001B[43m(\u001B[49m\u001B[43m*\u001B[49m\u001B[43margs\u001B[49m\u001B[43m,\u001B[49m\u001B[43m \u001B[49m\u001B[43m*\u001B[49m\u001B[43m*\u001B[49m\u001B[43mkwargs\u001B[49m\u001B[43m)\u001B[49m\n\u001B[32m    105\u001B[39m logger.debug(\u001B[33mf\u001B[39m\u001B[33m'\u001B[39m\u001B[33mExiting \u001B[39m\u001B[38;5;132;01m{\u001B[39;00mfunc.\u001B[34m__name__\u001B[39m\u001B[38;5;132;01m}\u001B[39;00m\u001B[33m()\u001B[39m\u001B[33m'\u001B[39m)\n\u001B[32m    106\u001B[39m \u001B[38;5;28;01mreturn\u001B[39;00m result\n",
      "\u001B[36mFile \u001B[39m\u001B[32mD:\\Programmes\\Anaconda\\envs\\Proba_ML\\Lib\\site-packages\\yfinance\\scrapers\\history.py:178\u001B[39m, in \u001B[36mPriceHistory.history\u001B[39m\u001B[34m(self, period, interval, start, end, prepost, actions, auto_adjust, back_adjust, repair, keepna, proxy, rounding, timeout, raise_errors)\u001B[39m\n\u001B[32m    176\u001B[39m         get_fn = \u001B[38;5;28mself\u001B[39m._data.cache_get\n\u001B[32m    177\u001B[39m \u001B[38;5;28;01mtry\u001B[39;00m:\n\u001B[32m--> \u001B[39m\u001B[32m178\u001B[39m     data = \u001B[43mget_fn\u001B[49m\u001B[43m(\u001B[49m\n\u001B[32m    179\u001B[39m \u001B[43m        \u001B[49m\u001B[43murl\u001B[49m\u001B[43m=\u001B[49m\u001B[43murl\u001B[49m\u001B[43m,\u001B[49m\n\u001B[32m    180\u001B[39m \u001B[43m        \u001B[49m\u001B[43mparams\u001B[49m\u001B[43m=\u001B[49m\u001B[43mparams\u001B[49m\u001B[43m,\u001B[49m\n\u001B[32m    181\u001B[39m \u001B[43m        \u001B[49m\u001B[43mtimeout\u001B[49m\u001B[43m=\u001B[49m\u001B[43mtimeout\u001B[49m\n\u001B[32m    182\u001B[39m \u001B[43m    \u001B[49m\u001B[43m)\u001B[49m\n\u001B[32m    183\u001B[39m     \u001B[38;5;28;01mif\u001B[39;00m \u001B[33m\"\u001B[39m\u001B[33mWill be right back\u001B[39m\u001B[33m\"\u001B[39m \u001B[38;5;129;01min\u001B[39;00m data.text \u001B[38;5;129;01mor\u001B[39;00m data \u001B[38;5;129;01mis\u001B[39;00m \u001B[38;5;28;01mNone\u001B[39;00m:\n\u001B[32m    184\u001B[39m         \u001B[38;5;28;01mraise\u001B[39;00m \u001B[38;5;167;01mRuntimeError\u001B[39;00m(\u001B[33m\"\u001B[39m\u001B[33m*** YAHOO! FINANCE IS CURRENTLY DOWN! ***\u001B[39m\u001B[38;5;130;01m\\n\u001B[39;00m\u001B[33m\"\u001B[39m\n\u001B[32m    185\u001B[39m                            \u001B[33m\"\u001B[39m\u001B[33mOur engineers are working quickly to resolve \u001B[39m\u001B[33m\"\u001B[39m\n\u001B[32m    186\u001B[39m                            \u001B[33m\"\u001B[39m\u001B[33mthe issue. Thank you for your patience.\u001B[39m\u001B[33m\"\u001B[39m)\n",
      "\u001B[36mFile \u001B[39m\u001B[32mD:\\Programmes\\Anaconda\\envs\\Proba_ML\\Lib\\site-packages\\yfinance\\data.py:32\u001B[39m, in \u001B[36mlru_cache_freezeargs.<locals>.wrapped\u001B[39m\u001B[34m(*args, **kwargs)\u001B[39m\n\u001B[32m     30\u001B[39m args = \u001B[38;5;28mtuple\u001B[39m([\u001B[38;5;28mtuple\u001B[39m(arg) \u001B[38;5;28;01mif\u001B[39;00m \u001B[38;5;28misinstance\u001B[39m(arg, \u001B[38;5;28mlist\u001B[39m) \u001B[38;5;28;01melse\u001B[39;00m arg \u001B[38;5;28;01mfor\u001B[39;00m arg \u001B[38;5;129;01min\u001B[39;00m args])\n\u001B[32m     31\u001B[39m kwargs = {k: \u001B[38;5;28mtuple\u001B[39m(v) \u001B[38;5;28;01mif\u001B[39;00m \u001B[38;5;28misinstance\u001B[39m(v, \u001B[38;5;28mlist\u001B[39m) \u001B[38;5;28;01melse\u001B[39;00m v \u001B[38;5;28;01mfor\u001B[39;00m k, v \u001B[38;5;129;01min\u001B[39;00m kwargs.items()}\n\u001B[32m---> \u001B[39m\u001B[32m32\u001B[39m \u001B[38;5;28;01mreturn\u001B[39;00m \u001B[43mfunc\u001B[49m\u001B[43m(\u001B[49m\u001B[43m*\u001B[49m\u001B[43margs\u001B[49m\u001B[43m,\u001B[49m\u001B[43m \u001B[49m\u001B[43m*\u001B[49m\u001B[43m*\u001B[49m\u001B[43mkwargs\u001B[49m\u001B[43m)\u001B[49m\n",
      "\u001B[36mFile \u001B[39m\u001B[32mD:\\Programmes\\Anaconda\\envs\\Proba_ML\\Lib\\site-packages\\yfinance\\data.py:431\u001B[39m, in \u001B[36mYfData.cache_get\u001B[39m\u001B[34m(self, url, user_agent_headers, params, timeout)\u001B[39m\n\u001B[32m    428\u001B[39m \u001B[38;5;129m@lru_cache_freezeargs\u001B[39m\n\u001B[32m    429\u001B[39m \u001B[38;5;129m@lru_cache\u001B[39m(maxsize=cache_maxsize)\n\u001B[32m    430\u001B[39m \u001B[38;5;28;01mdef\u001B[39;00m\u001B[38;5;250m \u001B[39m\u001B[34mcache_get\u001B[39m(\u001B[38;5;28mself\u001B[39m, url, user_agent_headers=\u001B[38;5;28;01mNone\u001B[39;00m, params=\u001B[38;5;28;01mNone\u001B[39;00m, timeout=\u001B[32m30\u001B[39m):\n\u001B[32m--> \u001B[39m\u001B[32m431\u001B[39m     \u001B[38;5;28;01mreturn\u001B[39;00m \u001B[38;5;28;43mself\u001B[39;49m\u001B[43m.\u001B[49m\u001B[43mget\u001B[49m\u001B[43m(\u001B[49m\u001B[43murl\u001B[49m\u001B[43m,\u001B[49m\u001B[43m \u001B[49m\u001B[43muser_agent_headers\u001B[49m\u001B[43m,\u001B[49m\u001B[43m \u001B[49m\u001B[43mparams\u001B[49m\u001B[43m,\u001B[49m\u001B[43m \u001B[49m\u001B[43mtimeout\u001B[49m\u001B[43m)\u001B[49m\n",
      "\u001B[36mFile \u001B[39m\u001B[32mD:\\Programmes\\Anaconda\\envs\\Proba_ML\\Lib\\site-packages\\yfinance\\utils.py:103\u001B[39m, in \u001B[36mlog_indent_decorator.<locals>.wrapper\u001B[39m\u001B[34m(*args, **kwargs)\u001B[39m\n\u001B[32m    100\u001B[39m logger.debug(\u001B[33mf\u001B[39m\u001B[33m'\u001B[39m\u001B[33mEntering \u001B[39m\u001B[38;5;132;01m{\u001B[39;00mfunc.\u001B[34m__name__\u001B[39m\u001B[38;5;132;01m}\u001B[39;00m\u001B[33m()\u001B[39m\u001B[33m'\u001B[39m)\n\u001B[32m    102\u001B[39m \u001B[38;5;28;01mwith\u001B[39;00m IndentationContext():\n\u001B[32m--> \u001B[39m\u001B[32m103\u001B[39m     result = \u001B[43mfunc\u001B[49m\u001B[43m(\u001B[49m\u001B[43m*\u001B[49m\u001B[43margs\u001B[49m\u001B[43m,\u001B[49m\u001B[43m \u001B[49m\u001B[43m*\u001B[49m\u001B[43m*\u001B[49m\u001B[43mkwargs\u001B[49m\u001B[43m)\u001B[49m\n\u001B[32m    105\u001B[39m logger.debug(\u001B[33mf\u001B[39m\u001B[33m'\u001B[39m\u001B[33mExiting \u001B[39m\u001B[38;5;132;01m{\u001B[39;00mfunc.\u001B[34m__name__\u001B[39m\u001B[38;5;132;01m}\u001B[39;00m\u001B[33m()\u001B[39m\u001B[33m'\u001B[39m)\n\u001B[32m    106\u001B[39m \u001B[38;5;28;01mreturn\u001B[39;00m result\n",
      "\u001B[36mFile \u001B[39m\u001B[32mD:\\Programmes\\Anaconda\\envs\\Proba_ML\\Lib\\site-packages\\yfinance\\data.py:364\u001B[39m, in \u001B[36mYfData.get\u001B[39m\u001B[34m(self, url, user_agent_headers, params, timeout)\u001B[39m\n\u001B[32m    362\u001B[39m \u001B[38;5;129m@utils\u001B[39m.log_indent_decorator\n\u001B[32m    363\u001B[39m \u001B[38;5;28;01mdef\u001B[39;00m\u001B[38;5;250m \u001B[39m\u001B[34mget\u001B[39m(\u001B[38;5;28mself\u001B[39m, url, user_agent_headers=\u001B[38;5;28;01mNone\u001B[39;00m, params=\u001B[38;5;28;01mNone\u001B[39;00m, timeout=\u001B[32m30\u001B[39m):\n\u001B[32m--> \u001B[39m\u001B[32m364\u001B[39m     \u001B[38;5;28;01mreturn\u001B[39;00m \u001B[38;5;28;43mself\u001B[39;49m\u001B[43m.\u001B[49m\u001B[43m_make_request\u001B[49m\u001B[43m(\u001B[49m\u001B[43murl\u001B[49m\u001B[43m,\u001B[49m\u001B[43m \u001B[49m\u001B[43mrequest_method\u001B[49m\u001B[43m \u001B[49m\u001B[43m=\u001B[49m\u001B[43m \u001B[49m\u001B[38;5;28;43mself\u001B[39;49m\u001B[43m.\u001B[49m\u001B[43m_session\u001B[49m\u001B[43m.\u001B[49m\u001B[43mget\u001B[49m\u001B[43m,\u001B[49m\u001B[43m \u001B[49m\u001B[43muser_agent_headers\u001B[49m\u001B[43m=\u001B[49m\u001B[43muser_agent_headers\u001B[49m\u001B[43m,\u001B[49m\u001B[43m \u001B[49m\u001B[43mparams\u001B[49m\u001B[43m=\u001B[49m\u001B[43mparams\u001B[49m\u001B[43m,\u001B[49m\u001B[43m \u001B[49m\u001B[43mtimeout\u001B[49m\u001B[43m=\u001B[49m\u001B[43mtimeout\u001B[49m\u001B[43m)\u001B[49m\n",
      "\u001B[36mFile \u001B[39m\u001B[32mD:\\Programmes\\Anaconda\\envs\\Proba_ML\\Lib\\site-packages\\yfinance\\utils.py:103\u001B[39m, in \u001B[36mlog_indent_decorator.<locals>.wrapper\u001B[39m\u001B[34m(*args, **kwargs)\u001B[39m\n\u001B[32m    100\u001B[39m logger.debug(\u001B[33mf\u001B[39m\u001B[33m'\u001B[39m\u001B[33mEntering \u001B[39m\u001B[38;5;132;01m{\u001B[39;00mfunc.\u001B[34m__name__\u001B[39m\u001B[38;5;132;01m}\u001B[39;00m\u001B[33m()\u001B[39m\u001B[33m'\u001B[39m)\n\u001B[32m    102\u001B[39m \u001B[38;5;28;01mwith\u001B[39;00m IndentationContext():\n\u001B[32m--> \u001B[39m\u001B[32m103\u001B[39m     result = \u001B[43mfunc\u001B[49m\u001B[43m(\u001B[49m\u001B[43m*\u001B[49m\u001B[43margs\u001B[49m\u001B[43m,\u001B[49m\u001B[43m \u001B[49m\u001B[43m*\u001B[49m\u001B[43m*\u001B[49m\u001B[43mkwargs\u001B[49m\u001B[43m)\u001B[49m\n\u001B[32m    105\u001B[39m logger.debug(\u001B[33mf\u001B[39m\u001B[33m'\u001B[39m\u001B[33mExiting \u001B[39m\u001B[38;5;132;01m{\u001B[39;00mfunc.\u001B[34m__name__\u001B[39m\u001B[38;5;132;01m}\u001B[39;00m\u001B[33m()\u001B[39m\u001B[33m'\u001B[39m)\n\u001B[32m    106\u001B[39m \u001B[38;5;28;01mreturn\u001B[39;00m result\n",
      "\u001B[36mFile \u001B[39m\u001B[32mD:\\Programmes\\Anaconda\\envs\\Proba_ML\\Lib\\site-packages\\yfinance\\data.py:424\u001B[39m, in \u001B[36mYfData._make_request\u001B[39m\u001B[34m(self, url, request_method, user_agent_headers, body, params, timeout)\u001B[39m\n\u001B[32m    422\u001B[39m     \u001B[38;5;66;03m# Raise exception if rate limited\u001B[39;00m\n\u001B[32m    423\u001B[39m     \u001B[38;5;28;01mif\u001B[39;00m response.status_code == \u001B[32m429\u001B[39m:\n\u001B[32m--> \u001B[39m\u001B[32m424\u001B[39m         \u001B[38;5;28;01mraise\u001B[39;00m YFRateLimitError()\n\u001B[32m    426\u001B[39m \u001B[38;5;28;01mreturn\u001B[39;00m response\n",
      "\u001B[31mYFRateLimitError\u001B[39m: Too Many Requests. Rate limited. Try after a while."
     ]
    }
   ],
   "execution_count": 5
  },
  {
   "cell_type": "markdown",
   "metadata": {
    "id": "trbjnKZlIF5N"
   },
   "source": [
    "# 3. Simulating normally distributed asset price returns\n",
    "\n",
    "Another tenet of theoretical finance is that the normally distributed asset price returns are also time invariant (stationary ergodic). This implies that we can estimate its statisical moments using a sufficiently large sample from any time period.\n",
    "\n",
    "In the cell below, estimate the mean and standard deviation from SPY's historical data. Use Numpy's random number generator to sample from a normal distribution with the above estimates of it's mean and standard deviation. In other words, you are simulating the world which theoretical finance claims we should be living in.\n",
    "\n",
    "Create a new column called 'Simulated' and generate the same number of random samples from Numpy's normal distribution as the actual data sample you've imported above for SPY. Visualize and summarize SPY's simulated daily price returns. Also, compute the skewness and kurtosis of the simulated daily price returns.\n",
    "\n",
    "Since we are sampling randomly from a normal distribution, the expected values for both skewness and kurtosis should be 0 +/- minor sampling errors. Analyze the differences between the actual and simulated returns of S&P 500."
   ]
  },
  {
   "cell_type": "code",
   "metadata": {
    "colab": {
     "base_uri": "https://localhost:8080/",
     "height": 725
    },
    "id": "s1NGEpI9SOSJ",
    "outputId": "70c8bd9c-b327-4f19-88ea-4bd6f40c7b2d",
    "ExecuteTime": {
     "end_time": "2025-05-06T17:31:01.945905400Z",
     "start_time": "2025-04-26T13:51:48.568711Z"
    }
   },
   "source": [
    "# Estimate the mean and standard deviation from SPY's 30 year historical data\n",
    "mean = equity['Returns'].mean()\n",
    "vol = equity['Returns'].std()\n",
    "sample = equity['Returns'].count()\n",
    "\n",
    "# Use Numpy's random number generator to sample from a normal distribution with the above estimates of it's mean and standard deviation\n",
    "# Create a new column called 'Simulated' and generate the same number of random samples from Numpy's normal distribution as the actual data sample you've imported above for SPY\n",
    "equity['Simulated'] = np.random.normal(mean, vol, sample)\n",
    "\n",
    "# Visualize and summarize SPY's simulated daily price returns.\n",
    "plt.hist(equity['Simulated']), plt.title('Distribution of S&P 500 Simulated Daily Returns'), plt.xlabel('Simulated Daily Percentage Returns'), plt.ylabel('Frequency'), plt.show();\n",
    "print(\"Descriptive statistics of S&P 500 stock's simulated percentage returns:\\n{}\".format(equity['Simulated'].describe()))\n",
    "\n",
    "# Compute the skewness and kurtosis of the simulated daily price returns.\n",
    "print('The skewness of S&P 500 simulated returns is: {0} and the kurtosis is: {1}.'.format(equity['Simulated'].skew().round(2), equity['Simulated'].kurtosis().round(2)))\n"
   ],
   "outputs": [
    {
     "data": {
      "text/plain": [
       "<Figure size 640x480 with 1 Axes>"
      ],
      "image/png": "[encoded data removed]"
     },
     "metadata": {},
     "output_type": "display_data"
    },
    {
     "name": "stdout",
     "output_type": "stream",
     "text": [
      "Descriptive statistics of S&P 500 stock's simulated percentage returns:\n",
      "count    7481.000000\n",
      "mean        0.028045\n",
      "std         1.196606\n",
      "min        -4.280289\n",
      "25%        -0.776785\n",
      "50%         0.026529\n",
      "75%         0.844756\n",
      "max         4.246843\n",
      "Name: Simulated, dtype: float64\n",
      "The skewness of S&P 500 simulated returns is: -0.02 and the kurtosis is: -0.0.\n"
     ]
    }
   ],
   "execution_count": 3
  },
  {
   "cell_type": "markdown",
   "metadata": {
    "id": "QalDDQuDRjKe"
   },
   "source": [
    "# 4a. The actual daily expected shortfall\n",
    "\n",
    "Let's investigate the real life consequences of following these theoretical models of modern finance. In the cell below, use the non-parametric method you learned in module 3, to calculate the daily expected shortfall at the 99% confidence level based on the actual returns of S&P 500. Assume an investment of 1000 shares of SPY. Hint: Import scipy.stats and sort the actual returns."
   ]
  },
  {
   "cell_type": "code",
   "metadata": {
    "colab": {
     "base_uri": "https://localhost:8080/"
    },
    "id": "8PscP9IkSqiU",
    "outputId": "1568f94b-82e3-4ccb-96f5-2f630876d62a",
    "ExecuteTime": {
     "end_time": "2025-05-06T17:31:01.945905400Z",
     "start_time": "2025-04-26T13:51:48.642983Z"
    }
   },
   "source": [
    "from scipy.stats import scoreatpercentile as sp\n",
    "\n",
    "investment = 1000 * equity['Close'][-1]\n",
    "confidence = 99\n",
    "cutoff_percent = 100 - confidence\n",
    "\n",
    "sorted_returns = equity['Returns'].sort_values()\n",
    "\n",
    "# Figure out the number of losses that will be in this percentile\n",
    "frequency = int(sorted_returns.count()*cutoff_percent/100)\n",
    "\n",
    "# Take the mean of the losses that are in the percentile to calculate Expected Shortfall.\n",
    "expected_shortfall = sorted_returns[:frequency].mean()\n",
    "\n",
    "print(\"The daily Expected Shortfall is {0:.2f}% with a dollar loss of ${1:.2f} based on a current investment of {2:.2f}.\".format(expected_shortfall, expected_shortfall*investment/100, investment))"
   ],
   "outputs": [
    {
     "name": "stdout",
     "output_type": "stream",
     "text": [
      "The daily Expected Shortfall is -4.79% with a dollar loss of $-16541.61 based on a current investment of 345186.13.\n"
     ]
    },
    {
     "name": "stderr",
     "output_type": "stream",
     "text": [
      "C:\\Users\\nicol\\AppData\\Local\\Temp\\ipykernel_30112\\1217484889.py:3: FutureWarning: Series.__getitem__ treating keys as positions is deprecated. In a future version, integer keys will always be treated as labels (consistent with DataFrame behavior). To access a value by position, use `ser.iloc[pos]`\n",
      "  investment = 1000 * equity['Close'][-1]\n"
     ]
    }
   ],
   "execution_count": 4
  },
  {
   "cell_type": "markdown",
   "metadata": {
    "id": "GeYKl_MSGGsk"
   },
   "source": [
    "# 4b. The theoretical daily expected shortfall\n",
    "\n",
    "Now compute the daily expected shortfall at 99% confidence level using the simulated gaussian/normal returns of SPY you generated in section 3 above based on the tenets of financial theory. Remember this is what theoretical finance believes how the data should be distributed. Assume the same investment of 1000 shares of SPY."
   ]
  },
  {
   "cell_type": "code",
   "metadata": {
    "colab": {
     "base_uri": "https://localhost:8080/"
    },
    "id": "if241vHrdriU",
    "outputId": "ea2aad95-41c3-4f93-e818-14efd147efd2",
    "ExecuteTime": {
     "end_time": "2025-05-06T17:31:01.945905400Z",
     "start_time": "2025-04-26T13:51:48.662776Z"
    }
   },
   "source": [
    "#@title\n",
    "sorted_sim_returns = equity['Simulated'].sort_values()\n",
    "\n",
    "# Take the mean of the losses that are in the percentile to calculate Expected Shortfall.\n",
    "sim_expected_shortfall = sorted_sim_returns[:frequency].mean()\n",
    "\n",
    "print(\"The daily Expected Shortfall is {0:.2f}% with a dollar loss of ${1:.2f} based on a current investment of {2:.2f}.\".format(sim_expected_shortfall, sim_expected_shortfall*investment/100, investment))"
   ],
   "outputs": [
    {
     "name": "stdout",
     "output_type": "stream",
     "text": [
      "The daily Expected Shortfall is -3.21% with a dollar loss of $-11097.36 based on a current investment of 345186.13.\n"
     ]
    }
   ],
   "execution_count": 5
  },
  {
   "cell_type": "markdown",
   "metadata": {
    "id": "KPmgZLWWXkA6"
   },
   "source": [
    "# 4c. Calculate by how much theoretical models underestimated tail risk\n",
    "\n",
    "In the cell below, calculate the difference between the theoretical and actual expected shortfall, both in terms of percentages and actual dollars.\n",
    "\n",
    "This would be the amount of risk you would have underestimated or money you would have lost adhering to the tenets of modern finance. These deeply flawed theoretical VaR models are what most banks used in the years leading to the Great Financial Crisis of the last decade.\n",
    "\n",
    "To get a sense of these losses, change your investment portfolio to hundred's of billions of dollars to calculate the losses or capital shortfalls that the banks experienced."
   ]
  },
  {
   "cell_type": "code",
   "metadata": {
    "colab": {
     "base_uri": "https://localhost:8080/"
    },
    "id": "zYfaoS2hb3Tu",
    "outputId": "35a285d1-9ca5-46a5-fae4-86f3528c1d24",
    "ExecuteTime": {
     "end_time": "2025-05-06T17:31:01.945905400Z",
     "start_time": "2025-04-26T13:51:48.676304Z"
    }
   },
   "source": [
    "underestimate = expected_shortfall - sim_expected_shortfall\n",
    "loss = underestimate/100 * investment\n",
    "print(\"The expected shortfall was underestimated by {0:.2f}% which would have led to a dollar shortfall of ${1:.2f} based on a current investment of {2:.2f}.\".format(underestimate, loss, investment))"
   ],
   "outputs": [
    {
     "name": "stdout",
     "output_type": "stream",
     "text": [
      "The expected shortfall was underestimated by -1.58% which would have led to a dollar shortfall of $-5444.26 based on a current investment of 345186.13.\n"
     ]
    }
   ],
   "execution_count": 6
  },
  {
   "cell_type": "markdown",
   "metadata": {
    "id": "Xl3QiRL9GwN9"
   },
   "source": [
    "# Conclusions\n",
    "\n",
    "Based on your experiments in this notebook, you can clearly see that normal distributions do not have any skewness (they are symmetrical) or kurtosis (no fat tails). This is why they under estimated the risks of fat tailed, or low probability events with negative returns, that characterize all asset price returns in the real world. You may want to repeat these experiments with different types of assets and time periods. The results will always underestimate the loss potential of low probability events compared to theoretical models of finance that rely on the normality and stationarity of asset price returns.\n",
    "\n",
    "These are not nice-to-know financial and statistical trivia. Asset price return distributions with negatively skewed, fat tails have the potential to bankrupt investors, corporations and entire economies if their modelers ignore them. The Great Financial Crisis is a recent reminder of the devastating consequences of building theoretical models using elegant mathematical equations that ignore the basic principles of the scientific method and the noisy, ugly, fat tailed realities of real world data.\n",
    "\n",
    "One of the main culprits of the crisis was the parametric VaR models used by banks to estimate the risks to their portfolios. Of course, these deeply flawed models had the blessings of financial theories and their high priests in academia who invoked fake economic 'Nobel Prizes' for benediction. Unlike these economists, we have everything to lose and not even a fake economics Nobel Prize to win by following their flimsy theoretical models.\n",
    "\n",
    "As data scientists, we must use data and the scientific method to challenge any theory, at any time. Even the great Albert Einstein was wrong about his views on Quantum Mechanics and his static model of the universe. Recall George Box's insightful quip, \"All models are wrong, but some are useful\". We should always endeavor to find more useful models with the awareness that they will always be incomplete and inadequate representations of reality."
   ]
  }
 ]
}
